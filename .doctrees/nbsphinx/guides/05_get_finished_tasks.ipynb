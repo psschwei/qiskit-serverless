{
 "cells": [
  {
   "cell_type": "markdown",
   "id": "375c82d9-3592-4a5b-aa38-f76a5876c510",
   "metadata": {},
   "source": [
    "# Guide: get finished remote tasks\n",
    "\n",
    "When you are working with remote functions you might face a situation when you do not need to wait for all remote tasks to complete, so `get` is not an option as it is waiting for all tasks for completion.\n",
    "\n",
    "For this situation we provide `get_refs_by_status` function, which separates references by readiness. \n",
    "\n",
    "Let's see in examples"
   ]
  },
  {
   "cell_type": "code",
   "execution_count": 1,
   "id": "d3b5af54-f83d-4b82-baa4-cc032c5b5050",
   "metadata": {},
   "outputs": [],
   "source": [
    "import time\n",
    "\n",
    "from quantum_serverless import (\n",
    "    QuantumServerless, \n",
    "    get, \n",
    "    distribute_task,\n",
    "    get_refs_by_status\n",
    ")"
   ]
  },
  {
   "cell_type": "code",
   "execution_count": 2,
   "id": "979c2a4c-3826-4470-b711-88259a951d68",
   "metadata": {},
   "outputs": [
    {
     "data": {
      "text/plain": [
       "<QuantumServerless | providers [local]>"
      ]
     },
     "execution_count": 2,
     "metadata": {},
     "output_type": "execute_result"
    }
   ],
   "source": [
    "@distribute_task()\n",
    "def sleepy_function(sleep_time: int):\n",
    "    time.sleep(sleep_time)\n",
    "    return sleep_time\n",
    "\n",
    "serverless = QuantumServerless()\n",
    "serverless"
   ]
  },
  {
   "cell_type": "code",
   "execution_count": 5,
   "id": "64d0ec49-5066-48de-8f1d-628e3964e6c8",
   "metadata": {},
   "outputs": [
    {
     "name": "stdout",
     "output_type": "stream",
     "text": [
      "Waiting for 7 remote functions to finish.\n",
      "Waiting for 6 remote functions to finish.\n",
      "Waiting for 5 remote functions to finish.\n",
      "Waiting for 4 remote functions to finish.\n",
      "Waiting for 3 remote functions to finish.\n",
      "Waiting for 2 remote functions to finish.\n",
      "Waiting for 1 remote functions to finish.\n",
      "Waiting for 0 remote functions to finish.\n"
     ]
    },
    {
     "data": {
      "text/plain": [
       "[4, 6, 7, 8, 3, 5, 1, 9]"
      ]
     },
     "execution_count": 5,
     "metadata": {},
     "output_type": "execute_result"
    }
   ],
   "source": [
    "results = []\n",
    "\n",
    "with serverless.context():\n",
    "    function_refs = [sleepy_function(t) for t in range(1, 10)]\n",
    "    \n",
    "    finished_refs, non_finished_refs = get_refs_by_status(function_refs)\n",
    "    \n",
    "    while len(non_finished_refs) != 0:\n",
    "        finished_refs, non_finished_refs = get_refs_by_status(non_finished_refs)\n",
    "        \n",
    "        results += get(finished_refs)\n",
    "        \n",
    "        print(f\"Waiting for {len(non_finished_refs)} remote functions to finish...\")\n",
    "        time.sleep(1)\n",
    "        \n",
    "results"
   ]
  }
 ],
 "metadata": {
  "kernelspec": {
   "display_name": "Python 3 (ipykernel)",
   "language": "python",
   "name": "python3"
  },
  "language_info": {
   "codemirror_mode": {
    "name": "ipython",
    "version": 3
   },
   "file_extension": ".py",
   "mimetype": "text/x-python",
   "name": "python",
   "nbconvert_exporter": "python",
   "pygments_lexer": "ipython3",
   "version": "3.7.13"
  }
 },
 "nbformat": 4,
 "nbformat_minor": 5
}
