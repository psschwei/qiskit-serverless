{
 "cells": [
  {
   "cell_type": "markdown",
   "id": "4e3e385b-b7a3-4e16-b503-3216e26e92fa",
   "metadata": {},
   "source": [
    "# Guide: working with large datasets\n",
    "\n",
    "There are a lot of cases when you need to work with large datasets, that needs to be processed in parallel.\n",
    "\n",
    "For this usecase we will be using [Ray datasets](https://docs.ray.io/en/latest/data/getting-started.html#datasets-getting-started). As QuantumServerless if fully compatible with Ray, we can do so without any interuption for our workflows."
   ]
  },
  {
   "cell_type": "code",
   "execution_count": 38,
   "id": "be98ac75-ade5-4241-ac65-3a43b4d62ea9",
   "metadata": {},
   "outputs": [],
   "source": [
    "from typing import List, Tuple\n",
    "\n",
    "from qiskit import QuantumCircuit\n",
    "from qiskit.circuit.random import random_circuit\n",
    "from qiskit.primitives import Sampler\n",
    "from quantum_serverless import QuantumServerless, distribute_task, get\n",
    "\n",
    "from ray import data # let's import data from ray"
   ]
  },
  {
   "cell_type": "code",
   "execution_count": 10,
   "id": "db8ca5ae-c2ab-4f83-9d8c-7439cbbdbbeb",
   "metadata": {},
   "outputs": [],
   "source": [
    "%%capture\n",
    "\n",
    "serverless = QuantumServerless()\n",
    "\n",
    "serverless.context()"
   ]
  },
  {
   "cell_type": "markdown",
   "id": "e44249e8-3221-40ed-b996-47a607c467e3",
   "metadata": {},
   "source": [
    "Let's create our first dataset of circuits"
   ]
  },
  {
   "cell_type": "code",
   "execution_count": 56,
   "id": "e60c5b42-4cf8-4050-bfb1-5f9244501346",
   "metadata": {},
   "outputs": [],
   "source": [
    "ds = data.from_items([\n",
    "    random_circuit(1, 2, measure=True)\n",
    "    for idx in range(100)\n",
    "])"
   ]
  },
  {
   "cell_type": "code",
   "execution_count": 57,
   "id": "3dc76b7c-6019-4714-a7f8-b25e55021867",
   "metadata": {},
   "outputs": [
    {
     "name": "stdout",
     "output_type": "stream",
     "text": [
      "     ┌───┐┌───┐┌─┐\n",
      "  q: ┤ T ├┤ Y ├┤M├\n",
      "     └───┘└───┘└╥┘\n",
      "c: 1/═══════════╩═\n",
      "                0 \n"
     ]
    }
   ],
   "source": [
    "ds.show(1)"
   ]
  },
  {
   "cell_type": "markdown",
   "id": "68354c07-952b-4f05-8d1f-0cb460f95b1d",
   "metadata": {},
   "source": [
    "Now we can repartition it into 5 blocks, in order to provide parallel execution capabilities to data handlers"
   ]
  },
  {
   "cell_type": "code",
   "execution_count": 58,
   "id": "2be2a162-ea93-4303-9330-802d4f4a13ba",
   "metadata": {},
   "outputs": [
    {
     "name": "stderr",
     "output_type": "stream",
     "text": [
      "Repartition: 100%|███████████████████████████████████████████████████████████████████████████████████████████████████████████████████████████████████████████████████████████████████████| 5/5 [00:00<00:00, 315.78it/s]\n"
     ]
    }
   ],
   "source": [
    "ds = ds.repartition(5)"
   ]
  },
  {
   "cell_type": "markdown",
   "id": "889161b2-dc8a-4ac8-8eb8-3f3c77446e1d",
   "metadata": {},
   "source": [
    "We can apply different mapping operations to data in order to process it. \n",
    "\n",
    "Let's calculate depth of circuit for the sake of example. "
   ]
  },
  {
   "cell_type": "code",
   "execution_count": 59,
   "id": "54bb05ce-a840-4171-bffa-8aabddbbd331",
   "metadata": {},
   "outputs": [
    {
     "name": "stderr",
     "output_type": "stream",
     "text": [
      "Map_Batches: 100%|███████████████████████████████████████████████████████████████████████████████████████████████████████████████████████████████████████████████████████████████████████| 5/5 [00:00<00:00, 178.15it/s]\n"
     ]
    }
   ],
   "source": [
    "def mapping_operation(circuits: List[QuantumCircuit]) -> List[QuantumCircuit]:\n",
    "    return [\n",
    "        {\"depth\": circuit.depth(), \"circuit\": circuit}\n",
    "        for circuit in circuits\n",
    "    ]\n",
    "\n",
    "ds = ds.map_batches(mapping_operation)"
   ]
  },
  {
   "cell_type": "code",
   "execution_count": 60,
   "id": "d4d8854d-f8b2-4b7a-8c03-2faa5ae8d5c1",
   "metadata": {},
   "outputs": [
    {
     "name": "stdout",
     "output_type": "stream",
     "text": [
      "{'depth': 3, 'circuit': <qiskit.circuit.quantumcircuit.QuantumCircuit object at 0x7f8bda0fb290>}\n"
     ]
    }
   ],
   "source": [
    "ds.show(1)"
   ]
  },
  {
   "cell_type": "markdown",
   "id": "0ea90f33-a7d5-407d-9201-9375ccdc2a02",
   "metadata": {},
   "source": [
    "Now let's split our dataset into chunks and process them in parallel."
   ]
  },
  {
   "cell_type": "code",
   "execution_count": 61,
   "id": "f6321a04-21e8-45af-afac-d21ade4e8796",
   "metadata": {},
   "outputs": [
    {
     "data": {
      "text/plain": [
       "[Dataset(num_blocks=2, num_rows=40, schema=<class 'dict'>),\n",
       " Dataset(num_blocks=2, num_rows=40, schema=<class 'dict'>),\n",
       " Dataset(num_blocks=1, num_rows=20, schema=<class 'dict'>)]"
      ]
     },
     "execution_count": 61,
     "metadata": {},
     "output_type": "execute_result"
    }
   ],
   "source": [
    "split_ds = ds.split(3)\n",
    "split_ds"
   ]
  },
  {
   "cell_type": "markdown",
   "id": "89d36de4-c5ad-4822-903d-dc94ccae4259",
   "metadata": {},
   "source": [
    "Here we can use our decorator to create remote function for dataset"
   ]
  },
  {
   "cell_type": "code",
   "execution_count": 62,
   "id": "d9f1465d-58e5-4e32-acd3-59de357d4fbc",
   "metadata": {},
   "outputs": [],
   "source": [
    "@distribute_task()\n",
    "def sample(data):\n",
    "    sampler = Sampler()\n",
    "    circuits = [r[\"circuit\"] for r in data.iter_rows()]\n",
    "    return sampler.run(circuits).result()"
   ]
  },
  {
   "cell_type": "code",
   "execution_count": 63,
   "id": "7a740429-01d7-4871-bb43-036f392086c3",
   "metadata": {},
   "outputs": [],
   "source": [
    "sample_tasks = [sample(shard) for shard in split_ds]"
   ]
  },
  {
   "cell_type": "code",
   "execution_count": 64,
   "id": "fbc14578-1c9f-420f-a3d9-5dd792e272ef",
   "metadata": {},
   "outputs": [],
   "source": [
    "results = get(sample_tasks)"
   ]
  },
  {
   "cell_type": "code",
   "execution_count": 65,
   "id": "b352242f-3c9d-4d01-beb1-a4fbd21ac3d5",
   "metadata": {},
   "outputs": [
    {
     "data": {
      "text/plain": [
       "[SamplerResult(quasi_dists=[{0: 0.0, 1: 1.0}, {0: 0.9999999999999998, 1: 0.0}, {0: 1.0, 1: 0.0}, {0: 1.0, 1: 0.0}, {0: 1.0, 1: 0.0}, {0: 1.0, 1: 0.0}, {0: 0.7942974242374243, 1: 0.20570257576257575}, {0: 1.0, 1: 0.0}, {0: 1.0, 1: 0.0}, {0: 0.05264990006648206, 1: 0.947350099933518}, {0: 0.9999999999999998, 1: 0.0}, {0: 0.0, 1: 1.0}, {0: 0.45480275093681083, 1: 0.5451972490631892}, {0: 0.10050746991952836, 1: 0.8994925300804716}, {0: 0.0, 1: 1.0}, {0: 1.0, 1: 0.0}, {0: 1.0, 1: 0.0}, {0: 0.4999999999999999, 1: 0.5000000000000001}, {0: 1.0, 1: 0.0}, {0: 0.0, 1: 1.0}, {0: 1.0, 1: 0.0}, {0: 1.0, 1: 0.0}, {0: 0.4999999999999999, 1: 0.4999999999999999}, {0: 0.0, 1: 1.0}, {0: 0.0010733773936409123, 1: 0.9989266226063591}, {0: 1.0, 1: 0.0}, {0: 0.5000000000000001, 1: 0.4999999999999999}, {0: 0.3381703724219888, 1: 0.6618296275780112}, {0: 0.0, 1: 1.0}, {0: 1.0, 1: 0.0}, {0: 1.0, 1: 0.0}, {0: 1.0, 1: 0.0}, {0: 1.0, 1: 0.0}, {0: 0.4999999999999999, 1: 0.4999999999999999}, {0: 0.7612155887733825, 1: 0.23878441122661753}, {0: 0.9867103753194477, 1: 0.013289624680552321}, {0: 0.0, 1: 1.0}, {0: 0.6099564121852018, 1: 0.39004358781479825}, {0: 0.4999999999999999, 1: 0.4999999999999999}, {0: 1.0, 1: 0.0}], metadata=[{}, {}, {}, {}, {}, {}, {}, {}, {}, {}, {}, {}, {}, {}, {}, {}, {}, {}, {}, {}, {}, {}, {}, {}, {}, {}, {}, {}, {}, {}, {}, {}, {}, {}, {}, {}, {}, {}, {}, {}]),\n",
       " SamplerResult(quasi_dists=[{0: 0.12795259919782143, 1: 0.8720474008021781}, {0: 0.4999999999999999, 1: 0.4999999999999998}, {0: 0.9357243481634924, 1: 0.06427565183650708}, {0: 0.02972604393004547, 1: 0.9702739560699544}, {0: 0.934973901454463, 1: 0.06502609854553694}, {0: 0.38227178780582916, 1: 0.6177282121941707}, {0: 0.0, 1: 1.0}, {0: 1.0, 1: 0.0}, {0: 1.0, 1: 0.0}, {0: 0.4972276539331164, 1: 0.5027723460668833}, {0: 0.0, 1: 1.0}, {0: 0.48185218535091934, 1: 0.5181478146490803}, {0: 0.9999999999999998, 1: 0.0}, {0: 0.4999999999999999, 1: 0.4999999999999999}, {0: 1.0, 1: 0.0}, {0: 0.9524126766158624, 1: 0.047587323384137625}, {0: 0.4397232362097549, 1: 0.560276763790245}, {0: 1.0, 1: 0.0}, {0: 1.0, 1: 0.0}, {0: 0.9941721396739035, 1: 0.005827860326096393}, {0: 0.9996719296771142, 1: 0.00032807032288587014}, {0: 0.23773460688749493, 1: 0.7622653931125051}, {0: 1.0, 1: 0.0}, {0: 0.4999999999999999, 1: 0.4999999999999998}, {0: 0.8644561069606984, 1: 0.13554389303930164}, {0: 1.0, 1: 0.0}, {0: 0.4999999999999999, 1: 0.4999999999999998}, {0: 1.0, 1: 0.0}, {0: 1.0, 1: 0.0}, {0: 0.2074440315388495, 1: 0.7925559684611505}, {0: 1.0, 1: 0.0}, {0: 1.0, 1: 0.0}, {0: 0.0, 1: 0.9999999999999998}, {0: 0.7726813621162862, 1: 0.22731863788371373}, {0: 0.9658904330278909, 1: 0.03410956697210917}, {0: 0.9986956240692265, 1: 0.0013043759307734466}, {0: 0.7715677605871707, 1: 0.2284322394128294}, {0: 0.3575022999056873, 1: 0.6424977000943127}, {0: 0.4999999999999999, 1: 0.4999999999999999}, {0: 0.884028160019632, 1: 0.11597183998036796}], metadata=[{}, {}, {}, {}, {}, {}, {}, {}, {}, {}, {}, {}, {}, {}, {}, {}, {}, {}, {}, {}, {}, {}, {}, {}, {}, {}, {}, {}, {}, {}, {}, {}, {}, {}, {}, {}, {}, {}, {}, {}]),\n",
       " SamplerResult(quasi_dists=[{0: 1.0, 1: 0.0}, {0: 1.0, 1: 0.0}, {0: 0.9853139837530858, 1: 0.014686016246914237}, {0: 0.9495503960132063, 1: 0.050449603986793566}, {0: 1.0, 1: 0.0}, {0: 1.0, 1: 0.0}, {0: 0.5910753802059651, 1: 0.40892461979403494}, {0: 0.0, 1: 1.0}, {0: 1.0, 1: 0.0}, {0: 1.0, 1: 0.0}, {0: 0.06555922271102001, 1: 0.9344407772889799}, {0: 0.9631003186864411, 1: 0.03689968131355884}, {0: 1.0, 1: 0.0}, {0: 1.0, 1: 0.0}, {0: 0.03458133797332779, 1: 0.9654186620266719}, {0: 1.0, 1: 0.0}, {0: 1.0, 1: 0.0}, {0: 1.0, 1: 0.0}, {0: 0.10009741459099618, 1: 0.8999025854090039}, {0: 1.0, 1: 0.0}], metadata=[{}, {}, {}, {}, {}, {}, {}, {}, {}, {}, {}, {}, {}, {}, {}, {}, {}, {}, {}, {}])]"
      ]
     },
     "execution_count": 65,
     "metadata": {},
     "output_type": "execute_result"
    }
   ],
   "source": [
    "results"
   ]
  },
  {
   "cell_type": "markdown",
   "id": "39edb77d-f799-450b-ac98-b1a8b0a95e36",
   "metadata": {},
   "source": [
    "-----\n",
    "\n",
    "For large datasets we can use s3 to read data from or any storage that supports Arrow. For more info refer to https://docs.ray.io/en/latest/data/dataset.html"
   ]
  }
 ],
 "metadata": {
  "kernelspec": {
   "display_name": "Python 3 (ipykernel)",
   "language": "python",
   "name": "python3"
  },
  "language_info": {
   "codemirror_mode": {
    "name": "ipython",
    "version": 3
   },
   "file_extension": ".py",
   "mimetype": "text/x-python",
   "name": "python",
   "nbconvert_exporter": "python",
   "pygments_lexer": "ipython3",
   "version": "3.7.13"
  }
 },
 "nbformat": 4,
 "nbformat_minor": 5
}
