{
 "cells": [
  {
   "cell_type": "markdown",
   "id": "9d1f0479-58bc-4d3b-9cd6-ddae7c206f29",
   "metadata": {},
   "source": [
    "# Guide: specific resource requirements"
   ]
  },
  {
   "cell_type": "code",
   "execution_count": 1,
   "id": "5c870446-9c6c-440c-9082-5ddad431e643",
   "metadata": {},
   "outputs": [],
   "source": [
    "from typing import List\n",
    "\n",
    "from qiskit import QuantumCircuit, transpile\n",
    "from qiskit.circuit.random import random_circuit\n",
    "\n",
    "from quantum_serverless import QuantumServerless, distribute_task, get"
   ]
  },
  {
   "cell_type": "code",
   "execution_count": 2,
   "id": "ff073fc9-1e24-4122-b968-032ee3d2d2f2",
   "metadata": {},
   "outputs": [
    {
     "data": {
      "text/plain": [
       "<QuantumServerless | providers [local]>"
      ]
     },
     "execution_count": 2,
     "metadata": {},
     "output_type": "execute_result"
    }
   ],
   "source": [
    "serverless = QuantumServerless()\n",
    "\n",
    "serverless"
   ]
  },
  {
   "cell_type": "markdown",
   "id": "396815a2-ef95-433a-b134-9344d96ff027",
   "metadata": {},
   "source": [
    "Sometimes your function has specific requirements. For example transpilation is heavy procedure and we want to make sure it will not fail, so we want to allocate more cpus for calculation. \n",
    "\n",
    "To allocate specific resource we can add `target` parameter to `run_qiskit_remote` decorator. This will tell scheduler to run this function with 2 cpus. "
   ]
  },
  {
   "cell_type": "code",
   "execution_count": 3,
   "id": "e6b433b5-63dd-4e99-8b1c-472344c2e311",
   "metadata": {},
   "outputs": [],
   "source": [
    "@distribute_task(target={\"cpu\": 2})\n",
    "def remote_transpile(circuits: List[QuantumCircuit]):\n",
    "    return transpile(circuits)"
   ]
  },
  {
   "cell_type": "code",
   "execution_count": 5,
   "id": "96e18044-bd49-4d7b-baa4-9866da07d442",
   "metadata": {},
   "outputs": [],
   "source": [
    "circuits = [random_circuit(5, 2) for _ in range(3)]"
   ]
  },
  {
   "cell_type": "code",
   "execution_count": 6,
   "id": "3ad5f102-5c48-4a08-a27f-e55a23131592",
   "metadata": {},
   "outputs": [
    {
     "data": {
      "text/plain": [
       "[<qiskit.circuit.quantumcircuit.QuantumCircuit at 0x7fc27945cfd0>,\n",
       " <qiskit.circuit.quantumcircuit.QuantumCircuit at 0x7fc208191910>,\n",
       " <qiskit.circuit.quantumcircuit.QuantumCircuit at 0x7fc2793e9450>]"
      ]
     },
     "execution_count": 6,
     "metadata": {},
     "output_type": "execute_result"
    }
   ],
   "source": [
    "with serverless.context():\n",
    "    results = get(remote_transpile(circuits))\n",
    "    \n",
    "results"
   ]
  }
 ],
 "metadata": {
  "kernelspec": {
   "display_name": "Python 3 (ipykernel)",
   "language": "python",
   "name": "python3"
  },
  "language_info": {
   "codemirror_mode": {
    "name": "ipython",
    "version": 3
   },
   "file_extension": ".py",
   "mimetype": "text/x-python",
   "name": "python",
   "nbconvert_exporter": "python",
   "pygments_lexer": "ipython3",
   "version": "3.7.13"
  }
 },
 "nbformat": 4,
 "nbformat_minor": 5
}
