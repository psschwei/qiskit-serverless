{
 "cells": [
  {
   "cell_type": "markdown",
   "id": "3224646a-4cd3-4cd2-903d-876fc65fdbf5",
   "metadata": {},
   "source": [
    "# Guide: specific package requirements\n"
   ]
  },
  {
   "cell_type": "markdown",
   "id": "5e0a43e6",
   "metadata": {},
   "source": [
    "There are usual cases where you need to install packages on nodes. In order to do that we provide `pip` key with list of packages in `target` for `run_qiskit_remote` decorator."
   ]
  },
  {
   "cell_type": "code",
   "execution_count": 1,
   "id": "59f1086a-1f0f-404b-9293-f398bf4af555",
   "metadata": {},
   "outputs": [],
   "source": [
    "import requests\n",
    "from quantum_serverless import QuantumServerless, run_qiskit_remote, get"
   ]
  },
  {
   "cell_type": "code",
   "execution_count": 2,
   "id": "d6b45b0f-a781-4824-8473-e4774c96b846",
   "metadata": {},
   "outputs": [
    {
     "data": {
      "text/plain": [
       "<QuantumServerless | providers [local]>"
      ]
     },
     "execution_count": 2,
     "metadata": {},
     "output_type": "execute_result"
    }
   ],
   "source": [
    "serverless = QuantumServerless()\n",
    "serverless"
   ]
  },
  {
   "cell_type": "code",
   "execution_count": 3,
   "id": "7b03ae2a-a78b-4c84-95d2-76d161778c7a",
   "metadata": {},
   "outputs": [],
   "source": [
    "@run_qiskit_remote(target={\"pip\": [\"requests\"]})\n",
    "def call_ibm():\n",
    "    return requests.get(\"https://ibm.com\").status_code"
   ]
  },
  {
   "cell_type": "code",
   "execution_count": 5,
   "id": "370f30f3-6faa-4ac9-aa38-be132bdc0d69",
   "metadata": {},
   "outputs": [
    {
     "data": {
      "text/plain": [
       "[200, 200]"
      ]
     },
     "execution_count": 5,
     "metadata": {},
     "output_type": "execute_result"
    }
   ],
   "source": [
    "with serverless.context():\n",
    "    results = get([call_ibm() for _ in range(2)])\n",
    "    \n",
    "results"
   ]
  }
 ],
 "metadata": {
  "kernelspec": {
   "display_name": "Python 3 (ipykernel)",
   "language": "python",
   "name": "python3"
  },
  "language_info": {
   "codemirror_mode": {
    "name": "ipython",
    "version": 3
   },
   "file_extension": ".py",
   "mimetype": "text/x-python",
   "name": "python",
   "nbconvert_exporter": "python",
   "pygments_lexer": "ipython3",
   "version": "3.7.13"
  }
 },
 "nbformat": 4,
 "nbformat_minor": 5
}
