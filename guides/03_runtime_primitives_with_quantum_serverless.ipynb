{
 "cells": [
  {
   "cell_type": "markdown",
   "metadata": {},
   "source": [
    "# Guide: Qiskit Runtime Primitives with QuantumServerless"
   ]
  },
  {
   "cell_type": "code",
   "execution_count": 2,
   "metadata": {
    "collapsed": false,
    "jupyter": {
     "outputs_hidden": false
    }
   },
   "outputs": [
    {
     "name": "stdout",
     "output_type": "stream",
     "text": [
      "Single execution: [0.6825]\n",
      "N parallel executions: [array([0.678]), array([1.]), array([1.])]\n"
     ]
    }
   ],
   "source": [
    "from qiskit import QuantumCircuit\n",
    "from qiskit.circuit.random import random_circuit\n",
    "from qiskit.quantum_info import SparsePauliOp\n",
    "from qiskit_ibm_runtime import Estimator\n",
    "\n",
    "from quantum_serverless import QuantumServerless, run_qiskit_remote, get, put\n",
    "\n",
    "# 1. let's annotate out function to convert it\n",
    "# to function that can be executed remotely\n",
    "# using `run_qiskit_remote` decorator\n",
    "@run_qiskit_remote()\n",
    "def my_function(circuit: QuantumCircuit, obs: SparsePauliOp):\n",
    "    return Estimator().run([circuit], [obs]).result().values\n",
    "\n",
    "\n",
    "# 2. Next let's create out serverless object to control\n",
    "# where our remote function will be executed\n",
    "serverless = QuantumServerless()\n",
    "\n",
    "circuits = [random_circuit(2, 2) for _ in range(3)]\n",
    "\n",
    "# 3. create serverless context\n",
    "with serverless.context():\n",
    "    # 4. let's put some shared objects into remote storage that will be shared among all executions\n",
    "    obs_ref = put(SparsePauliOp([\"ZZ\"]))\n",
    "\n",
    "    # 4. run our function and get back reference to it\n",
    "    # as now our function it remote one\n",
    "    function_reference = my_function(circuits[0], obs_ref)\n",
    "\n",
    "    # 4.1 or we can run N of them in parallel (for all circuits)\n",
    "    function_references = [my_function(circ, obs_ref) for circ in circuits]\n",
    "\n",
    "    # 5. to get results back from reference\n",
    "    # we need to call `get` on function reference\n",
    "    print(\"Single execution:\", get(function_reference))\n",
    "    print(\"N parallel executions:\", get(function_references))"
   ]
  }
 ],
 "metadata": {
  "kernelspec": {
   "display_name": "Python 3 (ipykernel)",
   "language": "python",
   "name": "python3"
  },
  "language_info": {
   "codemirror_mode": {
    "name": "ipython",
    "version": 3
   },
   "file_extension": ".py",
   "mimetype": "text/x-python",
   "name": "python",
   "nbconvert_exporter": "python",
   "pygments_lexer": "ipython3",
   "version": "3.7.13"
  }
 },
 "nbformat": 4,
 "nbformat_minor": 4
}
