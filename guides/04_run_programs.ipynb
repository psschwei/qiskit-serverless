{
 "cells": [
  {
   "cell_type": "markdown",
   "id": "83581f24-f41b-4d0a-81c5-70402812ce75",
   "metadata": {},
   "source": [
    "# Guide: run async programs\n",
    "\n",
    "In this guide we will look into an ability of QuantumServerless running asynchronous programs as async jobs.\n",
    "\n",
    "Let's import all necessary dependencies and create `QuantumServerless` instance."
   ]
  },
  {
   "cell_type": "code",
   "execution_count": 1,
   "id": "5428848b-8014-41bc-b9b3-2be5d2f39671",
   "metadata": {},
   "outputs": [],
   "source": [
    "from quantum_serverless import QuantumServerless, Program, GatewayProvider, Provider\n",
    "from quantum_serverless.core import ComputeResource"
   ]
  },
  {
   "cell_type": "code",
   "execution_count": 2,
   "id": "6c5a72dd-8cd2-4d9a-bcc2-781649e25634",
   "metadata": {},
   "outputs": [
    {
     "data": {
      "text/plain": [
       "<QuantumServerless | providers [gateway-provider]>"
      ]
     },
     "execution_count": 2,
     "metadata": {},
     "output_type": "execute_result"
    }
   ],
   "source": [
    "gateway_provider = GatewayProvider(\n",
    "    username=\"john\",\n",
    "    password=\"password123\",\n",
    "    host=\"http://localhost:8000\",\n",
    ")\n",
    "\n",
    "serverless = QuantumServerless([gateway_provider])\n",
    "serverless"
   ]
  },
  {
   "cell_type": "markdown",
   "id": "abe78b1e-ec3b-430a-b57f-b3262ff4ee93",
   "metadata": {},
   "source": [
    "> NOTE: important thing to remember is that async jobs are only available with real cluster and will not work in local machine. \n",
    "\n",
    "In this example we will have head node running on inside docker on localhost\n",
    "\n",
    "---\n",
    "\n",
    "Now we have all prep steps figured out. Next step will be defining script for the job itself.\n",
    "\n",
    "Inside the script we will be using the same principles that we showed in other tutorials (creating QuantumServerless instance, annotating functions and getting results)\n",
    "\n",
    "```python\n",
    "# program.py\n",
    "from quantum_serverless import QuantumServerless, run_qiskit_remote, get\n",
    "\n",
    "\n",
    "@distribute_task()\n",
    "def ultimate():\n",
    "    return 42\n",
    "\n",
    "\n",
    "with QuantumServerless().context():\n",
    "    result = get([\n",
    "        ultimate()\n",
    "        for _ in range(100)\n",
    "    ])\n",
    "    \n",
    "print(result)\n",
    "```\n",
    "\n",
    "[Program file](./program.py) will be located in the same directory as our notebook.\n",
    "\n",
    "\n",
    "Let's run our script/job using `run_program` function provided by QuantumServerless.\n",
    "Run program accepts `Program` instance."
   ]
  },
  {
   "cell_type": "code",
   "execution_count": 12,
   "id": "7612312e-91fc-4078-988b-4ffabfc9df63",
   "metadata": {},
   "outputs": [
    {
     "data": {
      "text/plain": [
       "<Job | 2>"
      ]
     },
     "execution_count": 12,
     "metadata": {},
     "output_type": "execute_result"
    }
   ],
   "source": [
    "program = Program(\n",
    "    name=\"awesome_program\",\n",
    "    entrypoint=\"program.py\",\n",
    "    working_dir=\"./\",\n",
    "    description=\"description of a program\",\n",
    "    version=\"0.0.1\"\n",
    ")\n",
    "\n",
    "job = serverless.run_program(program)\n",
    "job"
   ]
  },
  {
   "cell_type": "markdown",
   "id": "d47ce9c3-ca88-473c-b73f-67abc0a7dd95",
   "metadata": {},
   "source": [
    "You will get `Job` object as result, which you can query for `status` and `logs` to see status of your job and logs."
   ]
  },
  {
   "cell_type": "code",
   "execution_count": 13,
   "id": "e67a039f-5a0f-415c-991a-926f3fbc0cbe",
   "metadata": {},
   "outputs": [
    {
     "data": {
      "text/plain": [
       "'SUCCEEDED'"
      ]
     },
     "execution_count": 13,
     "metadata": {},
     "output_type": "execute_result"
    }
   ],
   "source": [
    "job.status()"
   ]
  },
  {
   "cell_type": "code",
   "execution_count": 14,
   "id": "3d22f21e-5d42-4917-800c-92de776b0b07",
   "metadata": {},
   "outputs": [
    {
     "name": "stdout",
     "output_type": "stream",
     "text": [
      "Single execution: [0.]\n",
      "N parallel executions: [array([0.]), array([1.]), array([0.])]\n",
      "\n"
     ]
    }
   ],
   "source": [
    "print(job.logs())"
   ]
  },
  {
   "cell_type": "code",
   "execution_count": 15,
   "id": "4a2f2347-a3b2-45da-800a-95021aaddca1",
   "metadata": {},
   "outputs": [
    {
     "data": {
      "text/plain": [
       "'{\"single_execution\": [0.0], \"multiple_executions\": [[0.0], [1.0], [0.0]]}'"
      ]
     },
     "execution_count": 15,
     "metadata": {},
     "output_type": "execute_result"
    }
   ],
   "source": [
    "job.result()"
   ]
  },
  {
   "cell_type": "code",
   "execution_count": 16,
   "id": "1cc48d5e-6c89-48ab-9845-46fd9dddacd5",
   "metadata": {},
   "outputs": [],
   "source": [
    "# recover job by id\n",
    "recovered_job = serverless.get_job_by_id(job.job_id)"
   ]
  },
  {
   "cell_type": "code",
   "execution_count": 17,
   "id": "1218d690-7f95-417d-a5ed-636c75638a0d",
   "metadata": {},
   "outputs": [
    {
     "data": {
      "text/plain": [
       "'SUCCEEDED'"
      ]
     },
     "execution_count": 17,
     "metadata": {},
     "output_type": "execute_result"
    }
   ],
   "source": [
    "recovered_job.status()"
   ]
  },
  {
   "cell_type": "code",
   "execution_count": 18,
   "id": "d27c575a-29b6-46b4-919b-ed0507478e56",
   "metadata": {},
   "outputs": [
    {
     "data": {
      "text/plain": [
       "'{\"single_execution\": [0.0], \"multiple_executions\": [[0.0], [1.0], [0.0]]}'"
      ]
     },
     "execution_count": 18,
     "metadata": {},
     "output_type": "execute_result"
    }
   ],
   "source": [
    "recovered_job.result()"
   ]
  }
 ],
 "metadata": {
  "kernelspec": {
   "display_name": "Python 3 (ipykernel)",
   "language": "python",
   "name": "python3"
  },
  "language_info": {
   "codemirror_mode": {
    "name": "ipython",
    "version": 3
   },
   "file_extension": ".py",
   "mimetype": "text/x-python",
   "name": "python",
   "nbconvert_exporter": "python",
   "pygments_lexer": "ipython3",
   "version": "3.7.13"
  }
 },
 "nbformat": 4,
 "nbformat_minor": 5
}
