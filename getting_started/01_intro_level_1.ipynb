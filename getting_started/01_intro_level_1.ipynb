{
 "cells": [
  {
   "cell_type": "markdown",
   "id": "66030e20-b384-4dcf-9c5f-7664f7ad1693",
   "metadata": {},
   "source": [
    "# Getting started - level 1\n",
    "\n",
    "Let's write `Hello World` program using quantum serverless. \n",
    "\n",
    "We will start with writing code for our program and saving it to [./source_files/gs_level_1.py](./source_files/gs_level_1.py) file. Our program will be a Qiskit hello world example, which prepares a Bell state and then returns the measured probability distribution\n",
    "\n",
    "```python\n",
    "# source_files/gs_level_1.py\n",
    "\n",
    "from qiskit import QuantumCircuit\n",
    "from qiskit.primitives import Sampler\n",
    "\n",
    "circuit = QuantumCircuit(2)\n",
    "circuit.h(0)\n",
    "circuit.cx(0, 1)\n",
    "circuit.measure_all()\n",
    "circuit.draw()\n",
    "\n",
    "sampler = Sampler()\n",
    "\n",
    "quasi_dists = sampler.run(circuit).result().quasi_dists\n",
    "\n",
    "print(f\"Quasi distribution: {quasi_dists[0]}\")\n",
    "```\n",
    "\n",
    "Next we need to run this program. For that we need to import necessary classes and configure them. \n",
    "One of those classes is `QuantumServerless`, which is a client class to interact with compute resources.\n",
    "It will help us run programs, monitor progress and fetch results.\n",
    "\n",
    "`QuantumServerless` accepts `Provider` as a constructor argument. Provider stores configuration where our compute resources are and how to connect to them. For this example we will be using provider which is connected to local docker-compose setup. For more information on docker-compose check out [docker docs](https://docs.docker.com/compose/), but for now you can think of it as your local environment manager. So, in this example programs will be running locally on your machine. If you want to run it elsewhere, you need to provide corresponding host and authentication details."
   ]
  },
  {
   "cell_type": "code",
   "execution_count": 15,
   "id": "81dd7807-7180-4b87-bbf9-832b7cf29d69",
   "metadata": {},
   "outputs": [],
   "source": [
    "from quantum_serverless import QuantumServerless, GatewayProvider"
   ]
  },
  {
   "cell_type": "code",
   "execution_count": 16,
   "id": "acdec789-4967-48ee-8f6c-8d2b0ff57e91",
   "metadata": {},
   "outputs": [
    {
     "data": {
      "text/plain": [
       "<QuantumServerless | providers [gateway-provider]>"
      ]
     },
     "execution_count": 16,
     "metadata": {},
     "output_type": "execute_result"
    }
   ],
   "source": [
    "provider = GatewayProvider(\n",
    "    username=\"user\", # this username has already been defined in local docker setup and does not need to be changed\n",
    "    password=\"password123\", # this password has already been defined in local docker setup and does not need to be changed\n",
    "    host=\"http://gateway:8000\", # address of provider\n",
    ")\n",
    "\n",
    "serverless = QuantumServerless(provider)\n",
    "serverless"
   ]
  },
  {
   "cell_type": "markdown",
   "id": "4dd85621-9ab0-4f34-9ab4-07ad773c5e00",
   "metadata": {},
   "source": [
    "Now we need to run our program file, by creating an instance of `Program` and calling `run_program` method of our `QuantumServerless` client.\n",
    "\n",
    "`Program` accepts couple of required parameters:\n",
    "- title - name of the program\n",
    "- entrypoint - name of python file you want to execute\n",
    "- working_dir - folder where  your script is located. This is optional parameter and will be current folder by default. "
   ]
  },
  {
   "cell_type": "code",
   "execution_count": 17,
   "id": "d51df836-3f22-467c-b637-5803145d5d8a",
   "metadata": {},
   "outputs": [
    {
     "data": {
      "text/plain": [
       "<Job | aae3533f-ed0d-4e93-9247-4705d476ee97>"
      ]
     },
     "execution_count": 17,
     "metadata": {},
     "output_type": "execute_result"
    }
   ],
   "source": [
    "from quantum_serverless import Program\n",
    "\n",
    "program = Program(\n",
    "    title=\"Getting started program level 1\", # you can choose any name you like. It is used to differentiate if you have a lot of programs in array.\n",
    "    entrypoint=\"gs_level_1.py\", # entrypoint is file that will start your calculation\n",
    "    working_dir=\"./source_files/\" # where you files are located. By default it is current directory.\n",
    ")\n",
    "\n",
    "job = serverless.run_program(program)\n",
    "job"
   ]
  },
  {
   "cell_type": "markdown",
   "id": "39ee31d2-3553-4e19-bcb9-4cccd0df0e4c",
   "metadata": {},
   "source": [
    "As result of `run` call we get `Job` which has `status` method to check status of program execution, `logs` to get logs of execution."
   ]
  },
  {
   "cell_type": "code",
   "execution_count": 19,
   "id": "cc7ccea6-bbae-4184-ba7f-67b6c20a0b0b",
   "metadata": {},
   "outputs": [
    {
     "data": {
      "text/plain": [
       "'SUCCEEDED'"
      ]
     },
     "execution_count": 19,
     "metadata": {},
     "output_type": "execute_result"
    }
   ],
   "source": [
    "job.status()"
   ]
  },
  {
   "cell_type": "code",
   "execution_count": 14,
   "id": "ca76abfa-2ff5-425b-a225-058d91348e8b",
   "metadata": {},
   "outputs": [
    {
     "data": {
      "text/plain": [
       "'Quasi distribution: {0: 0.4999999999999999, 3: 0.4999999999999999}\\n'"
      ]
     },
     "execution_count": 14,
     "metadata": {},
     "output_type": "execute_result"
    }
   ],
   "source": [
    "job.logs()"
   ]
  },
  {
   "cell_type": "markdown",
   "id": "3b1113ef-e8ad-4ed9-b07b-9da2f2b9ea1c",
   "metadata": {},
   "source": [
    "Also this object has `job_id` property that can be used if you want to access job results later.\n",
    "To do so we need to call `get_job_by_id` method of `QuantumServerless` client."
   ]
  },
  {
   "cell_type": "code",
   "execution_count": 20,
   "id": "f942b76d-596c-4384-8f36-e5f73e72cefd",
   "metadata": {},
   "outputs": [
    {
     "data": {
      "text/plain": [
       "'aae3533f-ed0d-4e93-9247-4705d476ee97'"
      ]
     },
     "execution_count": 20,
     "metadata": {},
     "output_type": "execute_result"
    }
   ],
   "source": [
    "job.job_id"
   ]
  },
  {
   "cell_type": "markdown",
   "id": "a92069ba-0a3c-4c9f-8e8d-3916a2eb2093",
   "metadata": {},
   "source": [
    "Users can fetch previously ran jobs from configured providers."
   ]
  },
  {
   "cell_type": "code",
   "execution_count": 21,
   "id": "45e2927f-655b-47a4-8003-f16e5ba0a1cd",
   "metadata": {},
   "outputs": [
    {
     "data": {
      "text/plain": [
       "<Job | aae3533f-ed0d-4e93-9247-4705d476ee97>"
      ]
     },
     "execution_count": 21,
     "metadata": {},
     "output_type": "execute_result"
    }
   ],
   "source": [
    "serverless.get_job_by_id(job.job_id)"
   ]
  }
 ],
 "metadata": {
  "kernelspec": {
   "display_name": "Python 3 (ipykernel)",
   "language": "python",
   "name": "python3"
  },
  "language_info": {
   "codemirror_mode": {
    "name": "ipython",
    "version": 3
   },
   "file_extension": ".py",
   "mimetype": "text/x-python",
   "name": "python",
   "nbconvert_exporter": "python",
   "pygments_lexer": "ipython3",
   "version": "3.7.13"
  }
 },
 "nbformat": 4,
 "nbformat_minor": 5
}
