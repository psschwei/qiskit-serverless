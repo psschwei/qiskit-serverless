{
 "cells": [
  {
   "cell_type": "markdown",
   "id": "299e7d6e-aa80-446f-b5f5-b079cb7ba769",
   "metadata": {},
   "source": [
    "# Tutorial: writing serverless package from scratch"
   ]
  },
  {
   "cell_type": "code",
   "execution_count": 1,
   "id": "e2d281fa-11ae-4e29-a995-9cfc9abd8e65",
   "metadata": {},
   "outputs": [],
   "source": [
    "import os\n",
    "import warnings\n",
    "\n",
    "warnings.filterwarnings('ignore')"
   ]
  },
  {
   "cell_type": "markdown",
   "id": "162430b8-f026-4dd0-b00f-28ba90aa791f",
   "metadata": {},
   "source": [
    "---\n",
    "\n",
    "There are couple of simple rules that you need to follow in order to write software packages with serverless.\n",
    "\n",
    "- Hide all unnecessary details from user to improve user experience\n",
    "  - hide ray library calls\n",
    "  - user should not be aware of ray if he do not need to\n",
    "- request as little resources as possible, it is better to have 10 function calls which require 1 cpu, than 1 function call which requires 10 cpus\n",
    "- in general follow patterns and avoid antipatterns by ray.io https://docs.ray.io/en/releases-1.9.0/ray-design-patterns/index.html"
   ]
  },
  {
   "cell_type": "code",
   "execution_count": 2,
   "id": "812649f9-c795-4807-83b6-a68ef087b549",
   "metadata": {},
   "outputs": [],
   "source": [
    "from typing import Optional, List, Dict, Any\n",
    "\n",
    "from qiskit import QuantumCircuit\n",
    "from qiskit.quantum_info import SparsePauliOp\n",
    "from qiskit.primitives import Estimator, EstimatorResult\n",
    "from qiskit.circuit.random import random_circuit\n",
    "from qiskit.opflow import X, I\n",
    "\n",
    "from quantum_serverless import QuantumServerless, put, get, run_qiskit_remote"
   ]
  },
  {
   "cell_type": "code",
   "execution_count": 3,
   "id": "e75b99aa-62d3-489d-9bdf-7b8c64fc88f0",
   "metadata": {},
   "outputs": [
    {
     "name": "stdout",
     "output_type": "stream",
     "text": [
      "Cluster result EstimatorResult(values=array([2.15866755, 1.37974414, 3.        ]), metadata=[{}, {}, {}])\n"
     ]
    }
   ],
   "source": [
    "# classical funciton that will be executed as remote task\n",
    "@run_qiskit_remote()\n",
    "def add_prefix(circuit: QuantumCircuit, prefix_depth) -> QuantumCircuit:\n",
    "    return random_circuit(circuit.num_qubits, prefix_depth).compose(circuit)\n",
    "\n",
    "# quantum related compute that should be executed as closer to quantum as possible\n",
    "# using resource QPU\n",
    "@run_qiskit_remote()\n",
    "def measure_exp_val(circuits: List[QuantumCircuit], observable) -> EstimatorResult:\n",
    "    with Estimator(circuits, observable) as estimator:\n",
    "        return estimator(range(len(circuits)), [0] * len(circuits))\n",
    "\n",
    "# this class is hiding all implementation details and ray annotation from user\n",
    "class YourClass:\n",
    "    def __init__(self, observable, prefix_depth: int = 3):\n",
    "        self.prefix_depth = prefix_depth\n",
    "        self.observable = observable\n",
    "    \n",
    "    def routine(self, circuits: List[QuantumCircuit]) -> EstimatorResult:\n",
    "        new_circuits = get([\n",
    "            add_prefix(circuit, self.prefix_depth)\n",
    "            for circuit in circuits\n",
    "        ])\n",
    "        return get(measure_exp_val(new_circuits, self.observable))\n",
    "\n",
    "# user only interact with QuantumServerless oobject to set compute resource and \n",
    "# high level YourClass class\n",
    "circuits = [random_circuit(3, 3) for _ in range(3)]\n",
    "observable = SparsePauliOp.from_list([(\"III\", 1), (\"IIZ\", 2), (\"IXI\", 3)])\n",
    "\n",
    "serverless = QuantumServerless()\n",
    "\n",
    "with serverless.context():\n",
    "    res = YourClass(observable=observable, prefix_depth=3).routine(circuits)\n",
    "    print(f\"Cluster result {res}\")"
   ]
  }
 ],
 "metadata": {
  "kernelspec": {
   "display_name": "Python 3 (ipykernel)",
   "language": "python",
   "name": "python3"
  },
  "language_info": {
   "codemirror_mode": {
    "name": "ipython",
    "version": 3
   },
   "file_extension": ".py",
   "mimetype": "text/x-python",
   "name": "python",
   "nbconvert_exporter": "python",
   "pygments_lexer": "ipython3",
   "version": "3.7.13"
  }
 },
 "nbformat": 4,
 "nbformat_minor": 5
}
