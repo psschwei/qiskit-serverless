{
 "cells": [
  {
   "cell_type": "markdown",
   "id": "978d83ac-86ca-4fb3-8b43-81c02c7be120",
   "metadata": {},
   "source": [
    "# Tutorial: Overview of Quantum Serverless\n",
    "\n",
    "Structure:\n",
    "\n",
    "- background, motivation and goals\n",
    "- building blocks of distributed computation\n",
    "- resource allocation and execution management\n",
    "- assembling all together\n",
    "- running as async program"
   ]
  },
  {
   "cell_type": "markdown",
   "id": "0d5fbcfb-f32d-4203-98aa-ceac59924351",
   "metadata": {},
   "source": [
    "## Background, motivation and goals\n",
    "\n",
    "**Background and motivation**\n",
    "\n",
    "Today a lot of experiments are happening on a local machines or on manually allocated remote resources. This approach is not scalable and we need to give users a tool to run quantum-classical workloads without worrying about allocating and managing underlying infrastructure.\n",
    "\n",
    "To achieve the quantum advantage we need to figure out mechanism to combine Classical + Quantum computation, and how orchestrate it.\n",
    "\n",
    "\n",
    "**Goals**\n",
    "\n",
    "Create a set of tools that allow user to execute hybrid workloads (combine/orchestrate Classical and Quantum computation).\n",
    "\n",
    "Efficiently manage abstractions for Quantum and Classical workloads.\n",
    "\n",
    "Maximizes flexibility for users in multi-cloud and HPC scenarios."
   ]
  },
  {
   "cell_type": "markdown",
   "id": "dc56c508-a0be-403f-9825-767e8a24e286",
   "metadata": {},
   "source": [
    "## Building blocks of distributed computation"
   ]
  },
  {
   "cell_type": "markdown",
   "id": "047459e0-7a9e-4597-9f1b-af25dbadffb9",
   "metadata": {},
   "source": [
    "**Compute resources**\n",
    "\n",
    "Compute resources can be described as set of computational nodes with resources associated to each of them.\n",
    "Nodes are performing computation itself. \n",
    "Distributed storage is for accessing sharable resources between nodes.\n",
    "\n",
    "![compute resources](https://raw.githubusercontent.com/Qiskit-Extensions/quantum-serverless/main/docs/tutorials/images/diagrams_compute_resource.png)\n",
    "\n",
    "\n",
    "In order to resolve distributed compute we need a way to orchestrate our workloads on remote resources.\n",
    "\n",
    "**Object**\n",
    "\n",
    "Let's first look how to turn a local object into a remote one.\n",
    "\n",
    "To turn your local object to distributed one you need to call `put` function. \n",
    "It will serialize your object and send it to distributed storage and return you a reference to remote object location. \n",
    "\n",
    "![objects diagram](https://raw.githubusercontent.com/Qiskit-Extensions/quantum-serverless/main/docs/tutorials/images/diagrams_put.png)\n",
    "\n",
    "Example\n",
    "\n",
    "```python\n",
    "cirucit = QuantumCircuit(N, M)\n",
    "...\n",
    "circuit_reference = quantum_serverless.put(circuit)\n",
    "```\n",
    "\n",
    "Now we know how to move local object to remote compute resource. \n",
    "Next we need to do something with it. For this we will have remote functions.\n",
    "\n",
    "**Functions**\n",
    "\n",
    "As a second step we need to know how to transform our local function into remote one. \n",
    "\n",
    "In order to do that you need to annotate function with `distribute_task` decorator. \n",
    "This will turn your function into remote executable.  \n",
    "\n",
    "![functions diagram](https://raw.githubusercontent.com/Qiskit-Extensions/quantum-serverless/main/docs/tutorials/images/diagrams_function.png)\n",
    "\n",
    "All you need to do now is call this function and it will be executed as a remote procedure automatically. \n",
    "\n",
    "If you run N instances of this function in parallel you need just call it N times in a loop. \n",
    "The result of the following code will be a list of references to execution results.\n",
    "\n",
    "Example\n",
    "\n",
    "```python\n",
    "@quantum_serverless.distribute_task()\n",
    "def exp_val_remote(cirucit, obs):\n",
    "    estimator = Estimator(...)\n",
    "    return estimator.run(circuit, obs)\n",
    "\n",
    "obs: Operator = ...\n",
    "\n",
    "exp_val_execution_reference = exp_val_remote(circuit, obs)\n",
    "\n",
    "circuit_list: List[QuantumCircuit] = [...]\n",
    "\n",
    "obs_ref = quantum_serverless.put(obs)\n",
    "\n",
    "exp_val_execution_references = [\n",
    "    exp_val_remote(circ, obs_ref) \n",
    "    for circ in circuit_list\n",
    "]\n",
    "```\n",
    "\n",
    "As you can see we are passing an observable by refernce and circuits by values. Attributes passed by value will be converted to remote objects automatically and resolved within the remote function. We are passing observable by referece because we know it is the same one shared by all parallel function invocations, so we are saving some space. \n",
    "\n",
    "**Collecting results**\n",
    "\n",
    "And of course you need to collect your results back from remote resources. \n",
    "In order to do that you need to call the `get` function, which can be applied to object and function references or, alternatively, to a list of references.\n",
    "\n",
    "![collecting results diagram](https://raw.githubusercontent.com/Qiskit-Extensions/quantum-serverless/main/docs/tutorials/images/diagram_get.png)\n",
    "\n",
    "Example\n",
    "\n",
    "```python\n",
    "collected_circuit = quantum_serverless.get(circuit_reference)\n",
    "# <QuantumCircuit ...>\n",
    "\n",
    "collected_exp_value = quantum_serverless.get(exp_val_execution_reference)\n",
    "# <EstimatorResult ...>\n",
    "collected_exp_values = quantum_serverless.get(exp_val_execution_references)\n",
    "# [<EstimatorResult ...>, <EstimatorResult ...>, ...]\n",
    "```"
   ]
  },
  {
   "cell_type": "markdown",
   "id": "9b092b14-f6f5-43f8-a750-7c7ccc13378b",
   "metadata": {},
   "source": [
    "## Resource allocation and execution management"
   ]
  },
  {
   "cell_type": "markdown",
   "id": "31dd73bf-2d32-4568-a7aa-bb6883488bcc",
   "metadata": {},
   "source": [
    "**Resource allocation**\n",
    "\n",
    "Some functions are more demanding than others. \n",
    "To allocate specific resources to a function, the decorator accepts `target` parameter.\n",
    "For example, your function may require 2 cpus to be executed. You can pass `target={'cpu': 2}` to decorator and this function will request 2 cpus from your resource capacity to be executed.\n",
    "\n",
    "![resource allocation diagram](https://raw.githubusercontent.com/Qiskit-Extensions/quantum-serverless/main/docs/tutorials/images/diagrams_resource_allocation.png)\n",
    "\n",
    "Example\n",
    "\n",
    "```python\n",
    "@quantum_serverless.distribute_task(target={\"cpu\": 2, \"mem\": 8})\n",
    "def exp_val_remote(cirucit, obs):\n",
    "    estimator = Estimator(...)\n",
    "    exp_val_result = estimator.run(circuit, obs)\n",
    "    ...\n",
    "    return result\n",
    "```\n",
    "\n",
    "**Execution management**\n",
    "\n",
    "Now we figured how to convert our function and objects into remote counterparts and how to request for specific resources.\n",
    "Next step would be deciding where to run your workloads. \n",
    "\n",
    "To have control over location of compute we use configurations in `QuantumServerless` object and python context managers. \n",
    "\n",
    "`QuantumServerless` has a notion of `providers` which are abstractions to define where your compute resources are located.\n",
    "\n",
    "By default you always have a `local` provider which is your local machine where nodes and local cores.\n",
    "And you can configure as many providers as you want.\n",
    "\n",
    "![execution management diagram](https://raw.githubusercontent.com/Qiskit-Extensions/quantum-serverless/main/docs/tutorials/images/diagrams_context_management.png)\n",
    "\n",
    "Example\n",
    "\n",
    "```python\n",
    "serverless = QuantumServerless({\"providers\": [...]})\n",
    "serverless = QuantumServerless.load_configuration(\"<PATH_TO_CONFIG_FILE>\")\n",
    "print(serverless)\n",
    "# <QuantumServerless: providers [local, ibm-cloud, ...]>\n",
    "\n",
    "with serverless.context(\"local\"):\n",
    "    exp_val_execution_reference = exp_val_remote(circuit, obs)\n",
    "    collected_exp_value = quantum_serverless.get(exp_val_execution_reference)\n",
    "\n",
    "with serverless.context(\"ibm-cloud\"):\n",
    "    exp_val_execution_reference = exp_val_remote(circuit, obs)\n",
    "    collected_exp_value = quantum_serverless.get(exp_val_execution_reference)\n",
    "```"
   ]
  },
  {
   "cell_type": "markdown",
   "id": "3a8c5fc8-5e85-4d47-aa9f-1e3b849783a4",
   "metadata": {},
   "source": [
    "## Assembling all together\n",
    "\n",
    "Now we have all the important concepts in place and we can assemble our first simple example of a distributed program.\n",
    "\n",
    "> NOTE: make sure to run docker-compose to use this example"
   ]
  },
  {
   "cell_type": "code",
   "execution_count": null,
   "id": "6277cbd3-a1ac-4a8f-8a29-c9c92732e780",
   "metadata": {},
   "outputs": [],
   "source": [
    "from qiskit.circuit.random import random_circuit\n",
    "from qiskit.primitives import Estimator\n",
    "from qiskit.quantum_info import SparsePauliOp\n",
    "from quantum_serverless import QuantumServerless, distribute_task, put, get\n",
    "\n",
    "serverless = QuantumServerless()\n",
    "\n",
    "@distribute_task()\n",
    "def exp_val_remote(circuit, obs):\n",
    "    estimator = Estimator()\n",
    "    return estimator.run(circuit, obs).result()\n",
    "\n",
    "circuit_list = [random_circuit(2, 2) for _ in range(3)]\n",
    "obs = SparsePauliOp([\"IZ\"])\n",
    "\n",
    "with serverless.context():\n",
    "    obs_ref = put(obs)\n",
    "    exp_val_execution_references = [\n",
    "        exp_val_remote(circ, obs_ref) \n",
    "        for circ in circuit_list\n",
    "    ]\n",
    "    collected_exp_values = get(exp_val_execution_references)\n",
    "    \n",
    "print(collected_exp_values)"
   ]
  },
  {
   "cell_type": "markdown",
   "id": "a962b872-427d-47c6-9eea-56a53bdfcdc6",
   "metadata": {},
   "source": [
    "## Running as async program\n",
    "\n",
    "In most of the cases we want to run our scripts as sync programs, so we can lunch them and forget, then later on check results.\n",
    "In order to do so we will use `Program` interface.\n",
    "\n",
    "Let's reuse benchmark script which covers all the concepts covered above and which you can find [here](./source_files/benchmark.py)."
   ]
  },
  {
   "cell_type": "code",
   "execution_count": 3,
   "id": "75efe890-d7ea-4747-973c-b90e4df9fe39",
   "metadata": {},
   "outputs": [
    {
     "data": {
      "text/plain": [
       "<Job | 14>"
      ]
     },
     "execution_count": 3,
     "metadata": {},
     "output_type": "execute_result"
    }
   ],
   "source": [
    "from quantum_serverless import Program, GatewayProvider\n",
    "\n",
    "gateway_provider = GatewayProvider(\n",
    "    username=\"user\",\n",
    "    password=\"password123\",\n",
    "    host=\"http://gateway:8000\",\n",
    ")\n",
    "\n",
    "program = Program(\n",
    "    title=\"brnchmark_program\",\n",
    "    entrypoint=\"benchmark.py\",\n",
    "    working_dir=\"./source_files/\",\n",
    "    description=\"Benchmark program\"\n",
    ")\n",
    "\n",
    "job = serverless.set_provider(gateway_provider).run_program(program)\n",
    "job"
   ]
  },
  {
   "cell_type": "code",
   "execution_count": 4,
   "id": "0a7c52b4-c51e-4497-a013-5b1fdc9a5a79",
   "metadata": {},
   "outputs": [
    {
     "data": {
      "text/plain": [
       "'SUCCEEDED'"
      ]
     },
     "execution_count": 4,
     "metadata": {},
     "output_type": "execute_result"
    }
   ],
   "source": [
    "job.status()"
   ]
  },
  {
   "cell_type": "code",
   "execution_count": 6,
   "id": "f650750b-4b39-4932-b9dc-a51171d1d146",
   "metadata": {},
   "outputs": [
    {
     "name": "stdout",
     "output_type": "stream",
     "text": [
      "Execution time: 9.168829679489136\n",
      "Results: [[EstimatorResult(values=array([-4.04804878e-01+6.73804871e-01j, -1.94289029e-16-8.76563346e-01j,\n",
      "        0.00000000e+00+2.93954499e-16j,  0.00000000e+00+1.00000000e+00j,\n",
      "       -5.78736907e-01-2.02739106e-01j, -8.32667268e-17-1.00000000e+00j,\n",
      "       -4.89359541e-16-1.15784406e-16j,  0.00000000e+00+3.87904546e-16j,\n",
      "       -5.34438212e-01+5.55111512e-17j, -3.51585782e-17+1.06106206e+00j,\n",
      "       -2.49262374e-02-2.61221914e-16j,  1.00000000e+00+1.00000000e+00j,\n",
      "       -4.49088083e-01+0.00000000e+00j, -1.00000000e+00+5.73423770e-17j,\n",
      "       -1.00000000e+00+4.90611306e-01j, -3.14018492e-16+9.81307787e-17j,\n",
      "        1.81756717e-01-3.15451888e-02j, -1.33434861e+00-1.11022302e-16j,\n",
      "        6.02950130e-02+1.56597418e-02j, -4.34512241e-01-3.34194313e-01j,\n",
      "        0.00000000e+00+1.00000000e+00j,  0.00000000e+00-1.00000000e+00j,\n",
      "        9.56512057e-01-2.30245304e-01j, -6.87854373e-01-7.04747198e-01j,\n",
      "       -8.67447001e-01-2.58061563e-16j, -1.74208517e-16+1.69868804e-16j,\n",
      "       -8.30268506e-01+0.00000000e+00j,  5.28163400e-01-5.55111512e-17j,\n",
      "        9.06271517e-01-1.00000000e+00j,  1.69275103e-01+8.24470603e-01j]), metadata=[{}, {}, {}, {}, {}, {}, {}, {}, {}, {}, {}, {}, {}, {}, {}, {}, {}, {}, {}, {}, {}, {}, {}, {}, {}, {}, {}, {}, {}, {}]), EstimatorResult(values=array([-4.04804878e-01+6.73804871e-01j, -1.94289029e-16-8.76563346e-01j,\n",
      "        0.00000000e+00+2.93954499e-16j,  0.00000000e+00+1.00000000e+00j,\n",
      "       -5.78736907e-01-2.02739106e-01j, -8.32667268e-17-1.00000000e+00j,\n",
      "       -4.89359541e-16-1.15784406e-16j,  0.00000000e+00+3.87904546e-16j,\n",
      "       -5.34438212e-01+5.55111512e-17j, -3.51585782e-17+1.06106206e+00j,\n",
      "       -2.49262374e-02-2.61221914e-16j,  1.00000000e+00+1.00000000e+00j,\n",
      "       -4.49088083e-01+0.00000000e+00j, -1.00000000e+00+5.73423770e-17j,\n",
      "       -1.00000000e+00+4.90611306e-01j, -3.14018492e-16+9.81307787e-17j,\n",
      "        1.81756717e-01-3.15451888e-02j, -1.33434861e+00-1.11022302e-16j,\n",
      "        6.02950130e-02+1.56597418e-02j, -4.34512241e-01-3.34194313e-01j,\n",
      "        0.00000000e+00+1.00000000e+00j,  0.00000000e+00-1.00000000e+00j,\n",
      "        9.56512057e-01-2.30245304e-01j, -6.87854373e-01-7.04747198e-01j,\n",
      "       -8.67447001e-01-2.58061563e-16j, -1.74208517e-16+1.69868804e-16j,\n",
      "       -8.30268506e-01+0.00000000e+00j,  5.28163400e-01-5.55111512e-17j,\n",
      "        9.06271517e-01-1.00000000e+00j,  1.69275103e-01+8.24470603e-01j]), metadata=[{}, {}, {}, {}, {}, {}, {}, {}, {}, {}, {}, {}, {}, {}, {}, {}, {}, {}, {}, {}, {}, {}, {}, {}, {}, {}, {}, {}, {}, {}]), EstimatorResult(values=array([-4.04804878e-01+6.73804871e-01j, -1.94289029e-16-8.76563346e-01j,\n",
      "        0.00000000e+00+2.93954499e-16j,  0.00000000e+00+1.00000000e+00j,\n",
      "       -5.78736907e-01-2.02739106e-01j, -8.32667268e-17-1.00000000e+00j,\n",
      "       -4.89359541e-16-1.15784406e-16j,  0.00000000e+00+3.87904546e-16j,\n",
      "       -5.34438212e-01+5.55111512e-17j, -3.51585782e-17+1.06106206e+00j,\n",
      "       -2.49262374e-02-2.61221914e-16j,  1.00000000e+00+1.00000000e+00j,\n",
      "       -4.49088083e-01+0.00000000e+00j, -1.00000000e+00+5.73423770e-17j,\n",
      "       -1.00000000e+00+4.90611306e-01j, -3.14018492e-16+9.81307787e-17j,\n",
      "        1.81756717e-01-3.15451888e-02j, -1.33434861e+00-1.11022302e-16j,\n",
      "        6.02950130e-02+1.56597418e-02j, -4.34512241e-01-3.34194313e-01j,\n",
      "        0.00000000e+00+1.00000000e+00j,  0.00000000e+00-1.00000000e+00j,\n",
      "        9.56512057e-01-2.30245304e-01j, -6.87854373e-01-7.04747198e-01j,\n",
      "       -8.67447001e-01-2.58061563e-16j, -1.74208517e-16+1.69868804e-16j,\n",
      "       -8.30268506e-01+0.00000000e+00j,  5.28163400e-01-5.55111512e-17j,\n",
      "        9.06271517e-01-1.00000000e+00j,  1.69275103e-01+8.24470603e-01j]), metadata=[{}, {}, {}, {}, {}, {}, {}, {}, {}, {}, {}, {}, {}, {}, {}, {}, {}, {}, {}, {}, {}, {}, {}, {}, {}, {}, {}, {}, {}, {}])]]\n",
      "\n"
     ]
    }
   ],
   "source": [
    "print(job.logs())"
   ]
  }
 ],
 "metadata": {
  "kernelspec": {
   "display_name": "Python 3 (ipykernel)",
   "language": "python",
   "name": "python3"
  },
  "language_info": {
   "codemirror_mode": {
    "name": "ipython",
    "version": 3
   },
   "file_extension": ".py",
   "mimetype": "text/x-python",
   "name": "python",
   "nbconvert_exporter": "python",
   "pygments_lexer": "ipython3",
   "version": "3.7.13"
  }
 },
 "nbformat": 4,
 "nbformat_minor": 5
}
