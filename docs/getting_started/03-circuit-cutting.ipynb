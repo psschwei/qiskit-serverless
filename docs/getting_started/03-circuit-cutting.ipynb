{
 "cells": [
  {
   "cell_type": "markdown",
   "id": "c6cd641f",
   "metadata": {},
   "source": [
    "# Tutorial 3: Circuit Cutting with Quantum Serverless\n",
    "\n",
    "**Circuit cutting** is a technique to decompose a quantum circuit into smaller circuits, whose results can be knitted together to reconstruct the original circuit output. \n",
    "\n",
    "The circuit knitting toolbox implements a wire cutting method presented in [CutQC](https://doi.org/10.1145/3445814.3446758) (Tang et al.). This method allows a circuit wire to be cut such that the generated subcircuits are amended by measurements in the Pauli bases and by state preparation of four Pauli eigenstates (see Fig. 4 of [CutQC](https://doi.org/10.1145/3445814.3446758)).\n",
    "\n",
    "This wire cutting technique is comprised of the following basic steps:\n",
    "\n",
    "1. **Decompose**: Cut a circuit into multiple subcircuits. Here, we'll use an automatic method to find optimal cut(s). See [tutorial 2](tutorial_2_manual_cutting.ipynb) to manually cut a circuit.\n",
    "2. **Evaluate**: Execute those subcircuits on quantum backend(s).\n",
    "3. **Reconstruct**: Knit the subcircuit results together to reconstruct the original circuit output (in this case, the full probability distribution).\n",
    "\n",
    "[**Quantum Serverless**](https://github.com/Qiskit-Extensions/quantum-serverless) is a platform built to enable distributed computing across a variety of classical and quantum backends.\n",
    "\n",
    "In this demo, we will show how to use quantum serverless to run portions of this workflow on a remote cluster."
   ]
  },
  {
   "cell_type": "markdown",
   "id": "3c17f515",
   "metadata": {},
   "source": [
    "## Create a quantum circuit with Qiskit\n",
    "\n",
    "In this case, we'll create a hardware-efficient circuit (`EfficientSU2` from the Qiskit circuit library) with two (linear) entangling layers."
   ]
  },
  {
   "cell_type": "code",
   "execution_count": null,
   "id": "eb859bde",
   "metadata": {},
   "outputs": [],
   "source": [
    "from __future__ import annotations\n",
    "import numpy as np\n",
    "from qiskit.circuit.library import EfficientSU2\n",
    "\n",
    "num_qubits = 8\n",
    "circuit = EfficientSU2(\n",
    "    num_qubits=num_qubits,\n",
    "    reps=2,\n",
    "    entanglement=\"linear\",\n",
    "    su2_gates=[\"ry\"],\n",
    ")\n",
    "\n",
    "circuit = circuit.decompose()\n",
    "\n",
    "params = [(np.pi * i) / 16 for i in range(len(circuit.parameters))]\n",
    "circuit = circuit.bind_parameters(params)\n",
    "circuit.draw(\"mpl\", fold=-1, scale=0.7)"
   ]
  },
  {
   "cell_type": "markdown",
   "id": "c6382121",
   "metadata": {},
   "source": [
    "## Set up Quantum Serverless\n",
    "\n",
    "We can use Quantum Serverless to allocate the steps of wire cutting to various compute resources. "
   ]
  },
  {
   "cell_type": "code",
   "execution_count": null,
   "id": "175b4f9e",
   "metadata": {},
   "outputs": [],
   "source": [
    "from quantum_serverless import QuantumServerless, get\n",
    "\n",
    "serverless = QuantumServerless()\n",
    "serverless.providers()"
   ]
  },
  {
   "cell_type": "markdown",
   "id": "0aa14d2f",
   "metadata": {},
   "source": [
    "## Decompose the circuit with wire cutting \n",
    "\n",
    "### Use `quantum-serverless` to send the `cut_circuit_wires` method to a remote cluster\n",
    "\n",
    "Here we create a wrapper function for the `cut_circuit_wires` function and annotate it with the `@run_qiskit_remote()` decorator from `quantum-serverless`. This allows us to call this function from a serverless context and have it sent for remote execution on the specified cluster."
   ]
  },
  {
   "cell_type": "code",
   "execution_count": null,
   "id": "8c11457a",
   "metadata": {},
   "outputs": [],
   "source": [
    "from typing import Sequence, Any\n",
    "from qiskit import QuantumCircuit\n",
    "from circuit_knitting_toolbox.circuit_cutting.wire_cutting import cut_circuit_wires\n",
    "from quantum_serverless import run_qiskit_remote, get\n",
    "\n",
    "# Create a wrapper function to be sent to remote cluster\n",
    "@run_qiskit_remote()\n",
    "def cut_circuit_wires_remote(\n",
    "    circuit: QuantumCircuit,\n",
    "    method: str,\n",
    "    subcircuit_vertices: Sequence[Sequence[int]] | None = None,\n",
    "    max_subcircuit_width: int | None = None,\n",
    "    max_subcircuit_cuts: int | None = None,\n",
    "    max_subcircuit_size: int | None = None,\n",
    "    max_cuts: int | None = None,\n",
    "    num_subcircuits: Sequence[int] | None = None,\n",
    ") -> dict[str, Any]:\n",
    "    return cut_circuit_wires(\n",
    "        circuit=circuit,\n",
    "        method=method,\n",
    "        subcircuit_vertices=subcircuit_vertices,\n",
    "        max_subcircuit_width=max_subcircuit_width,\n",
    "        max_subcircuit_cuts=max_subcircuit_cuts,\n",
    "        max_subcircuit_size=max_subcircuit_size,\n",
    "        max_cuts=max_cuts,\n",
    "        num_subcircuits=num_subcircuits,\n",
    "    )"
   ]
  },
  {
   "cell_type": "markdown",
   "id": "467a0e87",
   "metadata": {},
   "source": [
    "### Decompose the circuit in a serverless context\n",
    "\n",
    "In this example, we will use an automatic method to find cuts matching our criteria. See [tutorial 1](tutorial_1_automatic_cut_finding.ipynb) for how to configure the inputs for the automatic method. See [tutorial 2](tutorial_2_manual_cutting.ipynb) for how to manually cut a circuit.\n",
    "   \n",
    "We will call the `cut_circuit_wires_remote` function within a `QuantumServerless` context, which means it will be run on the specified cluster. Remember, the default cluster for this demo will use the cores on our local CPU. To specify a new cluster, the `QuantumServerless.set_provider` method should be used.\n",
    "\n",
    "When the remote function is called, it will return a \"future\" object, and Python will continue interpreting the next line of code. The `get` function from `quantum-serverless` is a blocking command which should be used to retrieve the results of the remote function via the \"future\" object. The program will not continue past the `get` call until the results of the remote function are returned."
   ]
  },
  {
   "cell_type": "code",
   "execution_count": null,
   "id": "ecad9a4a",
   "metadata": {},
   "outputs": [],
   "source": [
    "with serverless.context():\n",
    "    cuts_future = cut_circuit_wires_remote(\n",
    "        circuit=circuit,\n",
    "        method=\"automatic\",\n",
    "        max_subcircuit_width=5,\n",
    "        max_cuts=2,\n",
    "        num_subcircuits=[2],\n",
    "    )\n",
    "    cuts = get(cuts_future)"
   ]
  },
  {
   "cell_type": "markdown",
   "id": "27e3d3eb",
   "metadata": {},
   "source": [
    "### The two subcircuits produced"
   ]
  },
  {
   "cell_type": "code",
   "execution_count": null,
   "id": "13dc6132",
   "metadata": {},
   "outputs": [],
   "source": [
    "# visualize the first subcircuit\n",
    "cuts[\"subcircuits\"][0].draw(\"mpl\", fold=-1, scale=0.6)"
   ]
  },
  {
   "cell_type": "code",
   "execution_count": null,
   "id": "c5eebeaa",
   "metadata": {},
   "outputs": [],
   "source": [
    "# visualize the second subcircuit\n",
    "cuts[\"subcircuits\"][1].draw(\"mpl\", fold=-1, scale=0.6)"
   ]
  },
  {
   "cell_type": "markdown",
   "id": "4200f91f",
   "metadata": {},
   "source": [
    "## Evaluate the subcircuits\n",
    "\n",
    "### Use `quantum-serverless` to send the `evaluate_subcircuits` method to a remote cluster\n",
    "\n",
    "Here we create a wrapper function for the `evaluate_subcircuits` function and annotate it with the `@run_qiskit_remote()` decorator from `quantum-serverless`. This allows us to call this function from a serverless context and have it sent for remote execution on the specified cluster."
   ]
  },
  {
   "cell_type": "code",
   "execution_count": null,
   "id": "3234f5f8",
   "metadata": {},
   "outputs": [],
   "source": [
    "from qiskit_ibm_runtime import Options\n",
    "from circuit_knitting_toolbox.circuit_cutting.wire_cutting import evaluate_subcircuits\n",
    "\n",
    "# Create a wrapper function to be sent to remote cluster\n",
    "@run_qiskit_remote()\n",
    "def evaluate_subcircuits_remote(\n",
    "    cuts: dict[str, Any],\n",
    "    service_args: dict[str, Any] | None = None,\n",
    "    backend_names: Sequence[str] | None = None,\n",
    "    options_dict: dict | None = None,\n",
    ") -> dict[int, dict[int, np.ndarray]]:\n",
    "    service = None if service_args is None else QiskitRuntimeService(**service_args)\n",
    "    options = None if options_dict is None else Options(**options_dict)\n",
    "\n",
    "    return evaluate_subcircuits(\n",
    "        cuts, service=service, backend_names=backend_names, options=options\n",
    "    )"
   ]
  },
  {
   "cell_type": "markdown",
   "id": "461e57e3",
   "metadata": {},
   "source": [
    "### Set up the Qiskit Runtime Service\n",
    "\n",
    "The Qiskit Runtime Service provides access to IBM Runtime Primitives and quantum backends. See the [Qiskit Runtime documentation](https://qiskit.org/documentation/partners/qiskit_ibm_runtime/) for more information."
   ]
  },
  {
   "cell_type": "code",
   "execution_count": null,
   "id": "5d1fb2ca",
   "metadata": {},
   "outputs": [],
   "source": [
    "from qiskit_ibm_runtime import (\n",
    "    QiskitRuntimeService,\n",
    "    Options,\n",
    ")\n",
    "\n",
    "# Use local versions of the primitives by default.\n",
    "service = None"
   ]
  },
  {
   "cell_type": "markdown",
   "id": "0cab5dd8",
   "metadata": {},
   "source": [
    "### Configure the Qiskit Runtime Primitive\n",
    "\n",
    "The wire cutter tool uses a `Sampler` primitive to evaluate the probabilities of each subcircuit. Here, we configure the options for the Runtime Sampler and specify the backend(s) to be used to evaluate the subcircuits. Backends could be [simulator(s) and/or quantum device(s)](https://quantum-computing.ibm.com/services/resources?tab=systems). In this tutorial, two local cores will be used to support each of the parallel backend threads we'll specify below.\n",
    "\n",
    "If no service was set up, the `backend_names` argument will be ignored, and Qiskit Primitives will be used with statevector simulator."
   ]
  },
  {
   "cell_type": "code",
   "execution_count": null,
   "id": "3cc622d9",
   "metadata": {},
   "outputs": [],
   "source": [
    "# Set the Sampler and runtime options\n",
    "options = Options(execution={\"shots\": 4000})\n",
    "\n",
    "# Run 2 parallel qasm simulator threads\n",
    "backend_names = [\"ibmq_qasm_simulator\"] * 2"
   ]
  },
  {
   "cell_type": "markdown",
   "id": "742ec1e1",
   "metadata": {},
   "source": [
    "### Evaluate the subcircuits on the quantum backend(s)\n",
    "\n",
    "We will call the `evaluate_subcircuits_remote` function within a `QuantumServerless` context, which means it will be run on the specified cluster. \n",
    "\n",
    "When the remote function is called, it will return a \"future\" object, and Python will continue interpreting the next line of code. The `get` function from `quantum-serverless` is a blocking command which should be used to retrieve the results of the remote function via the \"future\" object. The program will not continue past the `get` call until the results of the remote function are returned."
   ]
  },
  {
   "cell_type": "code",
   "execution_count": null,
   "id": "2ae5160c",
   "metadata": {},
   "outputs": [],
   "source": [
    "from dataclasses import asdict\n",
    "\n",
    "with serverless.context():\n",
    "    # QiskitRuntimeService is not serializable, so we must convert it to a dictionary before passing to remote function\n",
    "    service_args = None if service is None else service.active_account()\n",
    "\n",
    "    # The Options class is not serializable, so we must convert it to a dictionary before passing to remote function\n",
    "    options_dict = asdict(options)\n",
    "\n",
    "    subcircuit_probabilities_future = evaluate_subcircuits_remote(\n",
    "        cuts,\n",
    "        service_args=service_args,\n",
    "        backend_names=backend_names,\n",
    "        options_dict=options_dict,\n",
    "    )\n",
    "    subcircuit_instance_probabilities = get(subcircuit_probabilities_future)"
   ]
  },
  {
   "cell_type": "markdown",
   "id": "b7890513",
   "metadata": {},
   "source": [
    "## Reconstruct the full circuit output\n",
    "\n",
    "### Use `quantum-serverless` to send the `reconstruct_full_distribution` method to a remote cluster\n",
    "\n",
    "Next, the results of the subcircuit experiments are classically postprocessed to reconstruct the original circuit's full probability distribution.\n",
    "\n",
    "Here, we create a wrapper function for the `reconstruct_full_distribution` function and annotate it with the `@run_qiskit_remote()` decorator from `quantum-serverless`. This allows us to call this function from a serverless context and have it sent for remote execution on the specified cluster."
   ]
  },
  {
   "cell_type": "code",
   "execution_count": null,
   "id": "9a74644d",
   "metadata": {},
   "outputs": [],
   "source": [
    "from circuit_knitting_toolbox.circuit_cutting.wire_cutting import (\n",
    "    reconstruct_full_distribution,\n",
    ")\n",
    "\n",
    "\n",
    "@run_qiskit_remote()\n",
    "def reconstruct_full_distribution_remote(\n",
    "    circuit: QuantumCircuit,\n",
    "    subcircuit_instance_probabilities: dict[int, dict[int, np.ndarray]],\n",
    "    cuts: dict[str, Any],\n",
    "    num_threads: int = 1,\n",
    ") -> np.ndarray:\n",
    "    return reconstruct_full_distribution(\n",
    "        circuit, subcircuit_instance_probabilities, cuts\n",
    "    )"
   ]
  },
  {
   "cell_type": "markdown",
   "id": "17e8511c",
   "metadata": {},
   "source": [
    "### Reconstruct the output\n",
    "\n",
    "We will call the `reconstruct_full_distribution_remote` function within a `QuantumServerless` context, which means it will be run on the specified cluster. .\n",
    "\n",
    "When the remote function is called, it will return a \"future\" object, and Python will continue interpreting the next line of code. The `get` function from `quantum-serverless` is a blocking command which should be used to retrieve the results of the remote function via the \"future\" object. The program will not continue past the `get` call until the results of the remote function are returned."
   ]
  },
  {
   "cell_type": "code",
   "execution_count": null,
   "id": "5aceecc0",
   "metadata": {},
   "outputs": [],
   "source": [
    "%%capture\n",
    "\n",
    "with serverless.context():\n",
    "    reconstructed_probabilities_future = reconstruct_full_distribution_remote(\n",
    "        circuit, subcircuit_instance_probabilities, cuts\n",
    "    )\n",
    "    reconstructed_probabilities = get(reconstructed_probabilities_future)"
   ]
  },
  {
   "cell_type": "markdown",
   "id": "7f86fe4c",
   "metadata": {},
   "source": [
    "## Verify the results\n",
    "\n",
    "If the original circuit is small enough, we can use a statevector simulator to check the results of cutting against the original circuit's exact probability distribution (ground truth)."
   ]
  },
  {
   "cell_type": "code",
   "execution_count": null,
   "id": "5353b0c8",
   "metadata": {},
   "outputs": [],
   "source": [
    "from circuit_knitting_toolbox.circuit_cutting.wire_cutting import verify\n",
    "\n",
    "metrics, exact_probabilities = verify(circuit, reconstructed_probabilities)"
   ]
  },
  {
   "cell_type": "markdown",
   "id": "03f63d3b",
   "metadata": {},
   "source": [
    "### The verify step includes several metrics\n",
    "\n",
    "For example, the chi square loss is computed. Since we're using the Qiskit Sampler with statevector simulator, we expect the reconstructed distributed to exactly match the ground truth. More info about each metric can be found in the [utils metrics file](https://github.com/Qiskit-Extensions/circuit-knitting-toolbox/blob/main/circuit_knitting_toolbox/utils/metrics.py)."
   ]
  },
  {
   "cell_type": "code",
   "execution_count": null,
   "id": "673d3cb3",
   "metadata": {},
   "outputs": [],
   "source": [
    "metrics"
   ]
  },
  {
   "cell_type": "markdown",
   "id": "ec8c120e",
   "metadata": {},
   "source": [
    "### Visualize both distributions\n",
    "\n",
    "If we calculated the ground truth above, we can visualize a comparison to the reconstructed probabilities"
   ]
  },
  {
   "cell_type": "code",
   "execution_count": null,
   "id": "c8cc97e9",
   "metadata": {},
   "outputs": [],
   "source": [
    "from qiskit.visualization import plot_histogram\n",
    "from qiskit.result import ProbDistribution\n",
    "\n",
    "# Create a dict for the reconstructed distribution\n",
    "reconstructed_distribution = {\n",
    "    i: prob for i, prob in enumerate(reconstructed_probabilities)\n",
    "}\n",
    "\n",
    "# Represent states as bitstrings (instead of ints)\n",
    "reconstructed_dict_bitstring = ProbDistribution(\n",
    "    data=reconstructed_distribution\n",
    ").binary_probabilities(num_bits=num_qubits)\n",
    "\n",
    "\n",
    "# Create the ground truth distribution dict\n",
    "exact_distribution = {i: prob for i, prob in enumerate(exact_probabilities)}\n",
    "\n",
    "# Represent states as bitstrings (instead of ints)\n",
    "exact_dict_bitstring = ProbDistribution(data=exact_distribution).binary_probabilities(\n",
    "    num_bits=num_qubits\n",
    ")\n",
    "\n",
    "# plot a histogram of the distributions\n",
    "plot_histogram(\n",
    "    [exact_dict_bitstring, reconstructed_dict_bitstring],\n",
    "    number_to_keep=8,\n",
    "    figsize=(16, 6),\n",
    "    sort=\"asc\",\n",
    "    legend=[\"Exact\", \"Reconstructed\"],\n",
    ")"
   ]
  },
  {
   "cell_type": "code",
   "execution_count": null,
   "id": "5e6e41aa",
   "metadata": {},
   "outputs": [],
   "source": [
    "import qiskit.tools.jupyter\n",
    "\n",
    "%qiskit_version_table"
   ]
  },
  {
   "cell_type": "markdown",
   "id": "efab631d",
   "metadata": {},
   "source": [
    "This code is a Qiskit project.\n",
    "© Copyright IBM 2022.\n",
    "\n",
    "This code is licensed under the Apache License, Version 2.0. You may\n",
    "obtain a copy of this license in the LICENSE.txt file in the root directory\n",
    "of this source tree or at http://www.apache.org/licenses/LICENSE-2.0.\n",
    "\n",
    "Any modifications or derivative works of this code must retain this\n",
    "copyright notice, and modified files need to carry a notice indicating\n",
    "that they have been altered from the originals."
   ]
  }
 ],
 "metadata": {
  "kernelspec": {
   "display_name": "Python 3 (ipykernel)",
   "language": "python",
   "name": "python3"
  },
  "language_info": {
   "codemirror_mode": {
    "name": "ipython",
    "version": 3
   },
   "file_extension": ".py",
   "mimetype": "text/x-python",
   "name": "python",
   "nbconvert_exporter": "python",
   "pygments_lexer": "ipython3",
   "version": "3.9.13"
  }
 },
 "nbformat": 4,
 "nbformat_minor": 5
}
