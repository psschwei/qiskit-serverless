{
 "cells": [
  {
   "cell_type": "markdown",
   "id": "f72f792d",
   "metadata": {},
   "source": [
    "# Qiskit workflow\n",
    "\n",
    "When using Qiskit a user workflow nominally consists of\n",
    "following four high-level steps:\n",
    "\n",
    "- **Build**: Design a quantum circuit(s) that represents the problem you are\n",
    "  considering.\n",
    "- **Compile**: Compile circuits for a specific quantum service, e.g. a quantum\n",
    "  system or classical simulator.\n",
    "- **Run**: Run the compiled circuits on the specified quantum service(s).  These\n",
    "  services can be cloud-based or local.\n",
    "- **Analyze**: Compute summary statistics and visualize the results of the\n",
    "  experiments.\n",
    "  \n",
    "In the rest of this notebook, we'll walk through this workflow.\n",
    "\n",
    "First, let's import a few dependencies."
   ]
  },
  {
   "cell_type": "code",
   "execution_count": null,
   "id": "6017ce16",
   "metadata": {},
   "outputs": [],
   "source": [
    "from qiskit import QuantumCircuit, transpile\n",
    "from qiskit_aer import AerSimulator\n",
    "from qiskit.visualization import plot_histogram"
   ]
  },
  {
   "cell_type": "markdown",
   "id": "e4397d64",
   "metadata": {},
   "source": [
    "In more detail, the imports are\n",
    "\n",
    "- ``QuantumCircuit``: can be thought as the instructions of the quantum system.\n",
    "  It holds all your quantum operations.\n",
    "- ``AerSimulator``: is the Aer high performance circuit simulator.\n",
    "- ``plot_histogram``: creates histograms.\n",
    "\n",
    "\n",
    "## Build\n",
    "\n",
    "Now, let's build our quantum circuit."
   ]
  },
  {
   "cell_type": "code",
   "execution_count": null,
   "id": "f3248d3a",
   "metadata": {
    "scrolled": true
   },
   "outputs": [],
   "source": [
    "# Create a Quantum Circuit acting on the q register\n",
    "circuit = QuantumCircuit(2, 2)"
   ]
  },
  {
   "cell_type": "markdown",
   "id": "9a7df460",
   "metadata": {},
   "source": [
    "Here we're initializing a quantum circuit `circuit` with 2 qubits in the zero state and with 2 classical bits set to zero\n",
    "\n",
    "\n",
    "Next, we'll add a few gates to the circuit"
   ]
  },
  {
   "cell_type": "code",
   "execution_count": null,
   "id": "09975c14",
   "metadata": {},
   "outputs": [],
   "source": [
    "# Add a H gate on qubit 0\n",
    "circuit.h(0)\n",
    "\n",
    "# Add a CX (CNOT) gate on control qubit 0 and target qubit 1\n",
    "circuit.cx(0, 1)\n",
    "\n",
    "# Map the quantum measurement to the classical bits\n",
    "circuit.measure([0, 1], [0, 1])"
   ]
  },
  {
   "cell_type": "markdown",
   "id": "57d531ee",
   "metadata": {},
   "source": [
    "The code above applies the following gates:\n",
    "\n",
    "- ``QuantumCircuit.h(0)``: A Hadamard gate `H` on qubit 0,\n",
    "  which puts it into a **superposition state**.\n",
    "- ``QuantumCircuit.cx(0, 1)``: A controlled-Not operation\n",
    "  (`CNOT`) on control qubit 0 and target qubit 1, putting the qubits in\n",
    "  an **entangled state**.\n",
    "- ``QuantumCircuit.measure([0,1], [0,1])``: if you pass\n",
    "  the entire quantum and classical registers to ``measure``, the ith qubit’s\n",
    "  measurement result will be stored in the ith classical bit."
   ]
  },
  {
   "cell_type": "markdown",
   "id": "cd9dec53",
   "metadata": {},
   "source": [
    "To double-check what we've done, we can view the circuit"
   ]
  },
  {
   "cell_type": "code",
   "execution_count": null,
   "id": "94989f01",
   "metadata": {},
   "outputs": [],
   "source": [
    "# Draw the circuit\n",
    "circuit.draw()"
   ]
  },
  {
   "cell_type": "markdown",
   "id": "fe10ae75",
   "metadata": {},
   "source": [
    "In this circuit, the qubits are ordered with qubit zero at the top and\n",
    "qubit one at the bottom. The circuit is read left-to-right, meaning that gates\n",
    "which are applied earlier in the circuit show up farther to the left.\n"
   ]
  },
  {
   "cell_type": "markdown",
   "id": "ecb6fb21",
   "metadata": {},
   "source": [
    "## Compile\n",
    "\n",
    "Now that we've built our circuit, we need to compile it for a specific quantum service.\n",
    "\n",
    "In this example, we'll use Qiskit Aer, a high performance simulator framework for quantum circuits."
   ]
  },
  {
   "cell_type": "code",
   "execution_count": null,
   "id": "9280b444",
   "metadata": {},
   "outputs": [],
   "source": [
    "# Use Aer's AerSimulator\n",
    "simulator = AerSimulator()"
   ]
  },
  {
   "cell_type": "markdown",
   "id": "df38a43e",
   "metadata": {},
   "source": [
    "Once we have our simulator, we'll compile it"
   ]
  },
  {
   "cell_type": "code",
   "execution_count": null,
   "id": "d7c28c34",
   "metadata": {},
   "outputs": [],
   "source": [
    "# Compile the circuit for the support instruction set (basis_gates)\n",
    "# and topology (coupling_map) of the backend\n",
    "compiled_circuit = transpile(circuit, simulator)"
   ]
  },
  {
   "cell_type": "markdown",
   "id": "a8240065",
   "metadata": {},
   "source": [
    "## Run\n",
    "\n",
    "Once we compile the cirucuit, then we can run it. The number of times the circuit is run can be specified via the ``shots``\n",
    "argument of the ``run`` method. The number of shots of the simulation is set to be 1000 (the default is 1024).\n"
   ]
  },
  {
   "cell_type": "code",
   "execution_count": null,
   "id": "cab92bbd",
   "metadata": {},
   "outputs": [],
   "source": [
    "# Execute the circuit on the aer simulator\n",
    "job = simulator.run(compiled_circuit, shots=1000)\n",
    "\n",
    "# Grab results from the job\n",
    "result = job.result()"
   ]
  },
  {
   "cell_type": "markdown",
   "id": "13595160",
   "metadata": {},
   "source": [
    "## Analyze\n",
    "\n",
    "Once you have a ``result`` object, you can access the counts via the method\n",
    "``get_counts(circuit)``. This gives you the aggregate outcomes of the\n",
    "experiment you ran."
   ]
  },
  {
   "cell_type": "code",
   "execution_count": null,
   "id": "8af51178",
   "metadata": {},
   "outputs": [],
   "source": [
    "# Returns counts\n",
    "counts = result.get_counts(compiled_circuit)\n",
    "print(\"\\nTotal count for 00 and 11 are:\", counts)"
   ]
  },
  {
   "cell_type": "markdown",
   "id": "ffbd28f3",
   "metadata": {},
   "source": [
    "There are also a number of visualizations you can use to view your results"
   ]
  },
  {
   "cell_type": "code",
   "execution_count": null,
   "id": "f826809e",
   "metadata": {},
   "outputs": [],
   "source": [
    "# Plot a histogram\n",
    "plot_histogram(counts)"
   ]
  }
 ],
 "metadata": {
  "kernelspec": {
   "display_name": "Python 3 (ipykernel)",
   "language": "python",
   "name": "python3"
  },
  "language_info": {
   "codemirror_mode": {
    "name": "ipython",
    "version": 3
   },
   "file_extension": ".py",
   "mimetype": "text/x-python",
   "name": "python",
   "nbconvert_exporter": "python",
   "pygments_lexer": "ipython3",
   "version": "3.9.13"
  }
 },
 "nbformat": 4,
 "nbformat_minor": 5
}
